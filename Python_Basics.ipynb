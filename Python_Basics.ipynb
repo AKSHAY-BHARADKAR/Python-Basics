{
  "nbformat": 4,
  "nbformat_minor": 0,
  "metadata": {
    "colab": {
      "provenance": []
    },
    "kernelspec": {
      "name": "python3",
      "display_name": "Python 3"
    },
    "language_info": {
      "name": "python"
    }
  },
  "cells": [
    {
      "cell_type": "code",
      "execution_count": null,
      "metadata": {
        "id": "b0weRwlcoDle"
      },
      "outputs": [],
      "source": []
    },
    {
      "cell_type": "markdown",
      "source": [
        "Q.1 What is Python, and why is it popular?\n",
        "\n",
        " Ans :-  Python is a high-level, interpreted programming language known for its readability and simplicity. It is popular because of its extensive libraries, versatility in different domains (web development, data science, machine learning), and ease of learning.\n",
        "Q.2 What is an interpreter in Python?\n",
        "\n",
        " Ans :-   An interpreter is a program that reads and executes code line by line, converting it into machine-readable instructions.\n",
        "\n",
        "Q.3 What are pre-defined keywords in Python?\n",
        "\n",
        " Ans :-   Pre-defined keywords are reserved words that have special meanings in Python (e.g., `if`, `for`, `while`, `True`, `False`). These cannot be used as variable names.\n",
        "\n",
        "Q.4 Can keywords be used as variable names?\n",
        "\n",
        "Ans :-     No, keywords cannot be used as variable names because they have reserved meanings in the language.\n",
        "\n",
        "Q.5 What is mutability in Python?\n",
        "\n",
        " Ans :-   Mutability refers to the ability of an object to be changed after it has been created. In Python, mutable objects (like lists) can be modified, while immutable objects (like tuples) cannot.\n",
        "\n",
        "Q.6 Why are lists mutable, but tuples are immutable?\n",
        "\n",
        "  Ans :-  Lists are mutable because they allow modifications after creation (such as adding, removing, or changing elements), while tuples are immutable to ensure fixed data structures that cannot be altered after creation.\n",
        "\n",
        "Q.7 What is the difference between `==` and `is` operators in Python?\n",
        "\n",
        "Ans :-\n",
        "   - `==` checks if the values of two variables are equal.\n",
        "   - `is` checks if two variables refer to the same object in memory.\n",
        "Q.8 What are logical operators in Python?\n",
        "\n",
        "Ans :-\n",
        "   Logical operators include:\n",
        "   - `and`: Returns `True` if both operands are true.\n",
        "   - `or`: Returns `True` if at least one operand is true.\n",
        "   - `not`: Inverts the boolean value.\n",
        "\n",
        "Q.9 What is type casting in Python?\n",
        "\n",
        "Ans :- Type casting refers to converting one data type into another, such as converting a string to an integer.\n",
        "\n",
        "Q.10 What is the difference between implicit and explicit type casting?\n",
        "\n",
        "   Ans :-  Implicit type casting is done automatically by Python when required (e.g., combining an integer and a float results in a float).\n",
        "    - Explicit type casting is manually done by the programmer using functions like `int()`, `float()`, etc.\n",
        "\n",
        "Q.11 What is the purpose of conditional statements in Python?\n",
        "\n",
        "   Ans :-  Conditional statements (`if`, `elif`, `else`) allow you to control the flow of execution by executing certain blocks of code based on conditions.\n",
        "\n",
        "Q.12 How does the `elif` statement work?\n",
        "\n",
        "  Ans :-   The `elif` statement checks another condition if the initial `if` condition is false. It stands for \"else if\" and can be used to add multiple conditions in a control flow.\n",
        "\n",
        "Q.13 What is the difference between for and while loops?\n",
        "  \n",
        "  Ans :-    A `for` loop iterates over a sequence (such as a list or range) for a fixed number of times.\n",
        "    - A `while` loop continues until a specified condition becomes false.\n",
        "\n",
        "\n",
        "Q.14 Describe a scenario where a while loop is more suitable than a for loop.\n",
        "\n",
        " Ans :-    A `while` loop is more suitable when the number of iterations is not known beforehand, for example, reading user input until a valid input is provided.\n"
      ],
      "metadata": {
        "id": "5eDXUdG5omFp"
      }
    },
    {
      "cell_type": "code",
      "source": [
        "# 15. Write a Python program to print \"Hello, World!\"\n",
        "print(\"Hello, World!\")\n"
      ],
      "metadata": {
        "colab": {
          "base_uri": "https://localhost:8080/"
        },
        "id": "8gNwbp4jo9vc",
        "outputId": "2a22ba46-d5e6-4b4a-daa9-0cc5a7004618"
      },
      "execution_count": 1,
      "outputs": [
        {
          "output_type": "stream",
          "name": "stdout",
          "text": [
            "Hello, World!\n"
          ]
        }
      ]
    },
    {
      "cell_type": "code",
      "source": [
        "# 16. Write a Python program to display your name and age:\n",
        "name = \"Your Name\"\n",
        "age = 25\n",
        "print(f\"My name is {name} and I am {age} years old.\")\n"
      ],
      "metadata": {
        "colab": {
          "base_uri": "https://localhost:8080/"
        },
        "id": "ZfvHhj8xrV2f",
        "outputId": "7a6474f0-1f29-4ada-b252-19baa1278d71"
      },
      "execution_count": 3,
      "outputs": [
        {
          "output_type": "stream",
          "name": "stdout",
          "text": [
            "My name is Your Name and I am 25 years old.\n"
          ]
        }
      ]
    },
    {
      "cell_type": "code",
      "source": [
        "# Q. 17Write a Code to print all the pre-defined keywords in python using the keyword library:\n",
        "\n",
        "import keyword\n",
        "print(keyword.kwlist)\n"
      ],
      "metadata": {
        "colab": {
          "base_uri": "https://localhost:8080/"
        },
        "id": "JsHPLtExr1zj",
        "outputId": "d799c09b-9d29-4729-da08-55464d30350b"
      },
      "execution_count": 4,
      "outputs": [
        {
          "output_type": "stream",
          "name": "stdout",
          "text": [
            "['False', 'None', 'True', 'and', 'as', 'assert', 'async', 'await', 'break', 'class', 'continue', 'def', 'del', 'elif', 'else', 'except', 'finally', 'for', 'from', 'global', 'if', 'import', 'in', 'is', 'lambda', 'nonlocal', 'not', 'or', 'pass', 'raise', 'return', 'try', 'while', 'with', 'yield']\n"
          ]
        }
      ]
    },
    {
      "cell_type": "code",
      "source": [
        "# Q. 18 Write a Program that checks if a given word is a Python keyword:\n",
        "\n",
        "import keyword\n",
        "\n",
        "# Function to check if a word is a Python keyword\n",
        "def is_keyword(word):\n",
        "    if keyword.iskeyword(word):\n",
        "        print(f\"'{word}' is a Python keyword.\")\n",
        "    else:\n",
        "        print(f\"'{word}' is not a Python keyword.\")\n",
        "\n",
        "# Input from user\n",
        "word = input(\"Enter a word to check if it's a Python keyword: \")\n",
        "\n",
        "# Check if the word is a keyword\n",
        "is_keyword(word)\n",
        "\n",
        "\n",
        "\n",
        "\n"
      ],
      "metadata": {
        "colab": {
          "base_uri": "https://localhost:8080/"
        },
        "id": "Xpvc4O2tsWDs",
        "outputId": "491354e0-aaeb-423a-e71f-59aa4a265593"
      },
      "execution_count": 22,
      "outputs": [
        {
          "output_type": "stream",
          "name": "stdout",
          "text": [
            "Enter a word to check if it's a Python keyword: hello\n",
            "'hello' is not a Python keyword.\n"
          ]
        }
      ]
    },
    {
      "cell_type": "code",
      "source": [],
      "metadata": {
        "id": "eDLt5nuQ_5n8"
      },
      "execution_count": null,
      "outputs": []
    },
    {
      "cell_type": "code",
      "source": [
        "# Q. 19 Write a Create a list and tuple in python and demonstrate how attempting to change an element works differently for each.\n",
        "\n",
        "# Creating a list and a tuple\n",
        "my_list = [10, 20, 30]\n",
        "my_tuple = (10, 20, 30)\n",
        "\n",
        "# Modifying an element in the list\n",
        "print(\"Original list:\", my_list)\n",
        "my_list[1] = 99  # Modifying the second element\n",
        "print(\"Modified list:\", my_list)\n",
        "\n",
        "# Trying to modify an element in the tuple\n",
        "print(\"\\nOriginal tuple:\", my_tuple)\n",
        "try:\n",
        "    my_tuple[1] = 99  # Attempting to modify the second element\n",
        "except TypeError as e:\n",
        "    print(\"Error:\", e)\n",
        "\n",
        "\n"
      ],
      "metadata": {
        "colab": {
          "base_uri": "https://localhost:8080/"
        },
        "id": "y-dzvTgDtJ1n",
        "outputId": "adff42f7-befb-4646-c302-15f6b713d393"
      },
      "execution_count": 8,
      "outputs": [
        {
          "output_type": "stream",
          "name": "stdout",
          "text": [
            "Original list: [10, 20, 30]\n",
            "Modified list: [10, 99, 30]\n",
            "\n",
            "Original tuple: (10, 20, 30)\n",
            "Error: 'tuple' object does not support item assignment\n"
          ]
        }
      ]
    },
    {
      "cell_type": "code",
      "source": [
        "# Q.20 write a Function to demonstrate the behaviour of mutable and immutable arguments.\n",
        "\n",
        "# Function to modify mutable and immutable arguments\n",
        "def modify_arguments(mutable_list, immutable_number):\n",
        "    # Modify mutable list\n",
        "    mutable_list.append(100)\n",
        "    print(\"Inside function (after modifying list):\", mutable_list)\n",
        "\n",
        "    # Modify immutable number\n",
        "    immutable_number += 10\n",
        "    print(\"Inside function (after modifying number):\", immutable_number)\n",
        "\n",
        "# Initial mutable and immutable arguments\n",
        "my_list = [1, 2, 3]\n",
        "my_number = 50\n",
        "\n",
        "# Before function call\n",
        "print(\"Before function call:\")\n",
        "print(\"List:\", my_list)\n",
        "print(\"Number:\", my_number)\n",
        "\n",
        "# Call the function\n",
        "modify_arguments(my_list, my_number)\n",
        "\n",
        "# After function call\n",
        "print(\"\\nAfter function call:\")\n",
        "print(\"List:\", my_list)  # The list is changed\n",
        "print(\"Number:\", my_number)  # The number is not changed\n"
      ],
      "metadata": {
        "colab": {
          "base_uri": "https://localhost:8080/"
        },
        "id": "sIvhPqgiuktQ",
        "outputId": "76d27a25-a72f-49bc-dabf-2d1f8ef618e9"
      },
      "execution_count": 9,
      "outputs": [
        {
          "output_type": "stream",
          "name": "stdout",
          "text": [
            "Before function call:\n",
            "List: [1, 2, 3]\n",
            "Number: 50\n",
            "Inside function (after modifying list): [1, 2, 3, 100]\n",
            "Inside function (after modifying number): 60\n",
            "\n",
            "After function call:\n",
            "List: [1, 2, 3, 100]\n",
            "Number: 50\n"
          ]
        }
      ]
    },
    {
      "cell_type": "code",
      "source": [
        "# Q. 21 Write a  Program to demonstrate the use of logical operators:\n",
        "\n",
        "a = True\n",
        "b = False\n",
        "print(a and b)  # False\n",
        "print(a or b)   # True\n",
        "print(not a)    # False\n"
      ],
      "metadata": {
        "colab": {
          "base_uri": "https://localhost:8080/"
        },
        "id": "6Bcb1OTXvYGy",
        "outputId": "b5785065-b039-412f-aecc-23bd5f1cf123"
      },
      "execution_count": 10,
      "outputs": [
        {
          "output_type": "stream",
          "name": "stdout",
          "text": [
            "False\n",
            "True\n",
            "False\n"
          ]
        }
      ]
    },
    {
      "cell_type": "code",
      "source": [
        "# Q. 22 Write a Python program to Convert user input from string to integer, float, and boolean types.\n",
        "\n",
        "# Taking user input as a string\n",
        "user_input = input(\"Enter a value: \")\n",
        "\n",
        "# Converting the input to an integer\n",
        "try:\n",
        "    int_value = int(user_input)\n",
        "    print(f\"Converted to integer: {int_value}\")\n",
        "except ValueError:\n",
        "    print(f\"Cannot convert '{user_input}' to an integer.\")\n",
        "\n",
        "# Converting the input to a float\n",
        "try:\n",
        "    float_value = float(user_input)\n",
        "    print(f\"Converted to float: {float_value}\")\n",
        "except ValueError:\n",
        "    print(f\"Cannot convert '{user_input}' to a float.\")\n",
        "\n",
        "# Converting the input to a boolean\n",
        "# For boolean, the string 'False', '0', and '' (empty string) are considered False, everything else is True\n",
        "bool_value = bool(user_input)\n",
        "print(f\"Converted to boolean: {bool_value}\")\n",
        "\n"
      ],
      "metadata": {
        "colab": {
          "base_uri": "https://localhost:8080/"
        },
        "id": "_UW5Kpayv-G-",
        "outputId": "77d1ee50-e9a4-463f-fe85-1635cdea3a69"
      },
      "execution_count": 13,
      "outputs": [
        {
          "output_type": "stream",
          "name": "stdout",
          "text": [
            "Enter a value: 123\n",
            "Converted to integer: 123\n",
            "Converted to float: 123.0\n",
            "Converted to boolean: True\n"
          ]
        }
      ]
    },
    {
      "cell_type": "code",
      "source": [
        "# Q. 23 Write code to demonstrate Type casting with list elements.\n",
        "\n",
        "# List containing elements of different types\n",
        "my_list = ['10', '20.5', 'True', '45', 'False']\n",
        "\n",
        "# Display the original list\n",
        "print(\"Original list (string elements):\", my_list)\n",
        "\n",
        "# Convert list elements to integer, float, and boolean as appropriate\n",
        "# Initialize empty lists for converted elements\n",
        "int_list = []\n",
        "float_list = []\n",
        "bool_list = []\n",
        "\n",
        "# Type casting elements in the list\n",
        "for element in my_list:\n",
        "    # Try to cast to integer if possible\n",
        "    try:\n",
        "        int_value = int(float(element))  # First cast to float to handle numbers like '20.5'\n",
        "        int_list.append(int_value)\n",
        "    except ValueError:\n",
        "        print(f\"Cannot cast '{element}' to an integer.\")\n",
        "\n",
        "    # Try to cast to float\n",
        "    try:\n",
        "        float_value = float(element)\n",
        "        float_list.append(float_value)\n",
        "    except ValueError:\n",
        "        print(f\"Cannot cast '{element}' to a float.\")\n",
        "\n",
        "    # Try to cast to boolean\n",
        "    bool_value = bool(element)  # All non-empty strings are True, empty or 'False' is False\n",
        "    bool_list.append(bool_value)\n",
        "\n",
        "# Display the lists after type casting\n",
        "print(\"\\nList after casting to integers:\", int_list)\n",
        "print(\"List after casting to floats:\", float_list)\n",
        "print(\"List after casting to booleans:\", bool_list)\n",
        "\n"
      ],
      "metadata": {
        "colab": {
          "base_uri": "https://localhost:8080/"
        },
        "id": "U9mhfA49_-N0",
        "outputId": "d765c435-6895-41ff-e0fe-4f27b6f95d4f"
      },
      "execution_count": 23,
      "outputs": [
        {
          "output_type": "stream",
          "name": "stdout",
          "text": [
            "Original list (string elements): ['10', '20.5', 'True', '45', 'False']\n",
            "Cannot cast 'True' to an integer.\n",
            "Cannot cast 'True' to a float.\n",
            "Cannot cast 'False' to an integer.\n",
            "Cannot cast 'False' to a float.\n",
            "\n",
            "List after casting to integers: [10, 20, 45]\n",
            "List after casting to floats: [10.0, 20.5, 45.0]\n",
            "List after casting to booleans: [True, True, True, True, True]\n"
          ]
        }
      ]
    },
    {
      "cell_type": "code",
      "source": [
        "# Q. 24 Write a Program that checks if a number is positive, negative, or zero.\n",
        "\n",
        "# Function to check if a number is positive, negative, or zero\n",
        "def check_number(num):\n",
        "    if num > 0:\n",
        "        print(f\"{num} is a positive number.\")\n",
        "    elif num < 0:\n",
        "        print(f\"{num} is a negative number.\")\n",
        "    else:\n",
        "        print(f\"{num} is zero.\")\n",
        "\n",
        "# Input from the user\n",
        "number = float(input(\"Enter a number: \"))\n",
        "\n",
        "# Check if the number is positive, negative, or zero\n",
        "check_number(number)\n"
      ],
      "metadata": {
        "colab": {
          "base_uri": "https://localhost:8080/"
        },
        "id": "_nq1slXvAyYC",
        "outputId": "07f2dd23-3244-4f66-9ca3-f7042e0189a0"
      },
      "execution_count": 1,
      "outputs": [
        {
          "output_type": "stream",
          "name": "stdout",
          "text": [
            "Enter a number: 0\n",
            "0.0 is zero.\n"
          ]
        }
      ]
    },
    {
      "cell_type": "code",
      "source": [
        "# Q.25 Write a For loop to print numbers from 1 to 10.\n",
        "\n",
        "# For loop to print numbers from 1 to 10\n",
        "for num in range(1, 11):\n",
        "    print(num)\n"
      ],
      "metadata": {
        "colab": {
          "base_uri": "https://localhost:8080/"
        },
        "id": "POtKStv8QrTM",
        "outputId": "d7da0adc-a856-457a-b977-bb8017f88270"
      },
      "execution_count": 2,
      "outputs": [
        {
          "output_type": "stream",
          "name": "stdout",
          "text": [
            "1\n",
            "2\n",
            "3\n",
            "4\n",
            "5\n",
            "6\n",
            "7\n",
            "8\n",
            "9\n",
            "10\n"
          ]
        }
      ]
    },
    {
      "cell_type": "code",
      "source": [
        "# Q.26 Write a python program to find th Sum of all even numbers between 1 and 50.\n",
        "\n",
        "# Initialize a variable to store the sum of even numbers\n",
        "sum_of_evens = 0\n",
        "\n",
        "# Loop through numbers from 1 to 50\n",
        "for num in range(1, 51):\n",
        "    if num % 2 == 0:  # Check if the number is even\n",
        "        sum_of_evens += num  # Add the even number to the sum\n",
        "\n",
        "# Display the result\n",
        "print(\"The sum of all even numbers between 1 and 50 is:\", sum_of_evens)\n"
      ],
      "metadata": {
        "colab": {
          "base_uri": "https://localhost:8080/"
        },
        "id": "4ll9_x4NRD2-",
        "outputId": "34c83016-df4f-47eb-9cd0-9f01a28d82d3"
      },
      "execution_count": 4,
      "outputs": [
        {
          "output_type": "stream",
          "name": "stdout",
          "text": [
            "The sum of all even numbers between 1 and 50 is: 650\n"
          ]
        }
      ]
    },
    {
      "cell_type": "code",
      "source": [
        "# Q.27 Write a Program to reverse a string using a while loop.\n",
        "\n",
        "\n",
        "# Function to reverse a string using a while loop\n",
        "def reverse_string(s):\n",
        "    reversed_str = \"\"\n",
        "    index = len(s) - 1  # Start from the last character\n",
        "\n",
        "    # Loop through the string in reverse\n",
        "    while index >= 0:\n",
        "        reversed_str += s[index]\n",
        "        index -= 1  # Move to the previous character\n",
        "\n",
        "    return reversed_str\n",
        "\n",
        "# Input from the user\n",
        "string = input(\"Enter a string to reverse: \")\n",
        "\n",
        "# Reverse the string and display the result\n",
        "reversed_string = reverse_string(string)\n",
        "print(\"Reversed string:\", reversed_string)\n"
      ],
      "metadata": {
        "colab": {
          "base_uri": "https://localhost:8080/"
        },
        "id": "3PSflW5fRmRT",
        "outputId": "33eef97b-58a3-4177-8f2a-465514561074"
      },
      "execution_count": 7,
      "outputs": [
        {
          "output_type": "stream",
          "name": "stdout",
          "text": [
            "Enter a string to reverse: Hello\n",
            "Reversed string: olleH\n"
          ]
        }
      ]
    },
    {
      "cell_type": "code",
      "source": [
        "# Q.28 Write a python Program to calculate the factorial of a number provided by the user using a while loop.\n",
        "\n",
        "# Function to calculate factorial using a while loop\n",
        "def factorial(n):\n",
        "    result = 1\n",
        "    while n > 0:\n",
        "        result *= n  # Multiply result by the current value of n\n",
        "        n -= 1  # Decrease n by 1\n",
        "    return result\n",
        "\n",
        "# Input from the user\n",
        "number = int(input(\"Enter a number to calculate its factorial: \"))\n",
        "\n",
        "# Check if the number is non-negative\n",
        "if number < 0:\n",
        "    print(\"Factorial is not defined for negative numbers.\")\n",
        "else:\n",
        "    # Calculate and display the factorial\n",
        "    fact = factorial(number)\n",
        "    print(f\"The factorial of {number} is: {fact}\")\n"
      ],
      "metadata": {
        "colab": {
          "base_uri": "https://localhost:8080/"
        },
        "id": "HpkcIGaVSYwX",
        "outputId": "6d8bd739-d044-438d-f771-dfc4f39c299a"
      },
      "execution_count": 8,
      "outputs": [
        {
          "output_type": "stream",
          "name": "stdout",
          "text": [
            "Enter a number to calculate its factorial: 5\n",
            "The factorial of 5 is: 120\n"
          ]
        }
      ]
    }
  ]
}